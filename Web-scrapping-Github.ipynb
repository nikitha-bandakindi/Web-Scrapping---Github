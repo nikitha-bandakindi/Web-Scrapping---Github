{
  "nbformat": 4,
  "nbformat_minor": 0,
  "metadata": {
    "colab": {
      "provenance": [],
      "authorship_tag": "ABX9TyN78B+w3abTvGLmKoBXgLB/",
      "include_colab_link": true
    },
    "kernelspec": {
      "name": "python3",
      "display_name": "Python 3"
    },
    "language_info": {
      "name": "python"
    }
  },
  "cells": [
    {
      "cell_type": "markdown",
      "metadata": {
        "id": "view-in-github",
        "colab_type": "text"
      },
      "source": [
        "<a href=\"https://colab.research.google.com/github/nikitha-bandakindi/Web-Scrapping---Github/blob/main/Web-scrapping-Github.ipynb\" target=\"_parent\"><img src=\"https://colab.research.google.com/assets/colab-badge.svg\" alt=\"Open In Colab\"/></a>"
      ]
    },
    {
      "cell_type": "code",
      "execution_count": null,
      "metadata": {
        "id": "tcl_uZh1pc51"
      },
      "outputs": [],
      "source": [
        "import requests\n",
        "!pip install bs4\n",
        "import bs4\n",
        "from bs4 import BeautifulSoup"
      ]
    },
    {
      "cell_type": "code",
      "source": [
        "github_user = input (\"Enter the github username: \")\n",
        "url = 'https://github.com/'+github_user\n",
        "r = requests.get(url)\n",
        "soup = BeautifulSoup(r.content, 'html.parser')\n",
        "profile_image = soup.find('img', {'alt' : 'Avatar'})['src']\n",
        "print(profile_image)\n"
      ],
      "metadata": {
        "id": "G_oNvWalpwrh"
      },
      "execution_count": null,
      "outputs": []
    }
  ]
}