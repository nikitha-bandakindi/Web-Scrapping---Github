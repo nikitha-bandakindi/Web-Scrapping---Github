{
  "nbformat": 4,
  "nbformat_minor": 0,
  "metadata": {
    "colab": {
      "provenance": [],
      "authorship_tag": "ABX9TyN78B+w3abTvGLmKoBXgLB/",
      "include_colab_link": true
    },
    "kernelspec": {
      "name": "python3",
      "display_name": "Python 3"
    },
    "language_info": {
      "name": "python"
    }
  },
  "cells": [
    {
      "cell_type": "markdown",
      "metadata": {
        "id": "view-in-github",
        "colab_type": "text"
      },
      "source": [
        "<a href=\"https://colab.research.google.com/github/nikitha-bandakindi/Web-Scrapping---Github/blob/main/Webscrapping-Github.ipynb\" target=\"_parent\"><img src=\"https://colab.research.google.com/assets/colab-badge.svg\" alt=\"Open In Colab\"/></a>"
      ]
    },
    {
      "cell_type": "code",
      "execution_count": 8,
      "metadata": {
        "colab": {
          "base_uri": "https://localhost:8080/"
        },
        "id": "tcl_uZh1pc51",
        "outputId": "082c9df3-dffe-4b14-e338-c4ba53c06017"
      },
      "outputs": [
        {
          "output_type": "stream",
          "name": "stdout",
          "text": [
            "Looking in indexes: https://pypi.org/simple, https://us-python.pkg.dev/colab-wheels/public/simple/\n",
            "Requirement already satisfied: bs4 in /usr/local/lib/python3.9/dist-packages (0.0.1)\n",
            "Requirement already satisfied: beautifulsoup4 in /usr/local/lib/python3.9/dist-packages (from bs4) (4.11.2)\n",
            "Requirement already satisfied: soupsieve>1.2 in /usr/local/lib/python3.9/dist-packages (from beautifulsoup4->bs4) (2.4)\n"
          ]
        }
      ],
      "source": [
        "import requests\n",
        "!pip install bs4\n",
        "import bs4\n",
        "from bs4 import BeautifulSoup"
      ]
    },
    {
      "cell_type": "code",
      "source": [
        "github_user = input (\"Enter the github username: \")\n",
        "url = 'https://github.com/'+github_user\n",
        "r = requests.get(url)\n",
        "soup = BeautifulSoup(r.content, 'html.parser')\n",
        "profile_image = soup.find('img', {'alt' : 'Avatar'})['src']\n",
        "print(profile_image)\n"
      ],
      "metadata": {
        "colab": {
          "base_uri": "https://localhost:8080/"
        },
        "id": "G_oNvWalpwrh",
        "outputId": "dcf87e50-3b28-42df-8e93-32a98aca9a0d"
      },
      "execution_count": 13,
      "outputs": [
        {
          "output_type": "stream",
          "name": "stdout",
          "text": [
            "Enter the github username: nikitha-bandakindi\n",
            "https://avatars.githubusercontent.com/u/120299636?v=4\n"
          ]
        }
      ]
    }
  ]
}